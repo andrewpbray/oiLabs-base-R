{
 "cells": [
  {
   "cell_type": "markdown",
   "metadata": {},
   "source": [
    "# Inference for Numerical Data\n",
    "Copied and adapted from OpenStats Intro [\"Inference for numerical data\" lab](http://htmlpreview.github.io/?https://github.com/andrewpbray/oiLabs-base-R/blob/master/inf_for_numerical_data/inf_for_numerical_data.html), a product of OpenIntro that is released under a [Creative Commons Attribution-ShareAlike 3.0 Unported](http://creativecommons.org/licenses/by-sa/3.0). Original lab was adapted for OpenIntro by Mine Çetinkaya-Rundel from a lab written by the faculty and TAs of UCLA Statistics.\n",
    "\n",
    "## North Carolina births\n",
    "\n",
    "In 2004, the state of North Carolina released a large data set containing information on births recorded in this state. This data set is useful to researchers studying the relation between habits and practices of expectant mothers and the birth of their children. We will work with a random sample of observations from this data set.\n",
    "\n",
    "The [data set](https://www.openintro.org/stat/data/?data=nc) contains 1000 randomly selected births from the birth records released by the state of North Carolina in 2004. "
   ]
  },
  {
   "cell_type": "code",
   "execution_count": null,
   "metadata": {
    "collapsed": true
   },
   "outputs": [],
   "source": [
    "%matplotlib inline\n",
    "import matplotlib.pyplot as plt\n",
    "from scipy.stats import norm\n",
    "import pandas as pd\n",
    "import numpy as np\n",
    "import statsmodels.stats.weightstats"
   ]
  },
  {
   "cell_type": "markdown",
   "metadata": {},
   "source": [
    "## Exploratory analysis"
   ]
  },
  {
   "cell_type": "markdown",
   "metadata": {},
   "source": [
    "Load the nc data set into the notebook."
   ]
  },
  {
   "cell_type": "code",
   "execution_count": null,
   "metadata": {
    "collapsed": true
   },
   "outputs": [],
   "source": [
    "# load data into dataframe\n",
    "ncbirths = pd.read_csv(\"https://www.openintro.org/stat/data/nc.csv\")"
   ]
  },
  {
   "cell_type": "markdown",
   "metadata": {},
   "source": [
    "We have observations on 13 different variables, some categorical and some numerical. The meaning of each variable is as follows.\n",
    "\n",
    "|variable |\tdescription |\n",
    "|---------|-------------|\n",
    "|fage\t|father’s age in years.|\n",
    "|mage\t|mother’s age in years.|\n",
    "|mature\t|maturity status of mother.|\n",
    "|weeks\t|length of pregnancy in weeks.|\n",
    "|premie\t|whether the birth was classified as premature (premie) or full-term.|\n",
    "|visits\t|number of hospital visits during pregnancy.|\n",
    "|marital|\twhether mother is married or not married at birth.|\n",
    "|gained\t|weight gained by mother during pregnancy in pounds.|\n",
    "|weight\t|weight of the baby at birth in pounds.|\n",
    "|lowbirthweight\t|whether baby was classified as low birthweight (low) or not (not low).|\n",
    "|gender\t|gender of the baby, female or male.|\n",
    "|habit\t|status of the mother as a nonsmoker or a smoker.|\n",
    "|whitemom|\twhether mom is white or not white.|"
   ]
  },
  {
   "cell_type": "markdown",
   "metadata": {},
   "source": [
    "As a first step in the analysis, we should consider summaries of the data. This can be done using the `describe` command:"
   ]
  },
  {
   "cell_type": "code",
   "execution_count": null,
   "metadata": {
    "collapsed": false
   },
   "outputs": [],
   "source": [
    "ncbirths.describe()"
   ]
  },
  {
   "cell_type": "code",
   "execution_count": null,
   "metadata": {
    "collapsed": false,
    "scrolled": true
   },
   "outputs": [],
   "source": [
    "ncbirths.info()"
   ]
  },
  {
   "cell_type": "markdown",
   "metadata": {},
   "source": [
    "### Exercise 1 - Exploratory\n",
    "1. What are the cases in this data set? How many cases are there in our sample?\n",
    "2. Which variables are numerical and which ones are categorical?\n",
    "3. For numerical values, are their outliers? If you aren't sure or want to take a closer look at the data, make a graph."
   ]
  },
  {
   "cell_type": "markdown",
   "metadata": {},
   "source": [
    "Consider the possible relationship between a mother’s smoking habit and the weight of her baby. Plotting the data is a useful first step because it helps us quickly visualize trends, identify strong associations, and develop research questions."
   ]
  },
  {
   "cell_type": "markdown",
   "metadata": {},
   "source": [
    "### Exercise 2\n",
    "Make a side-by-side box plot of `habit` and `weight`. What does the plot highlight about the relationship between these two variables?"
   ]
  },
  {
   "cell_type": "markdown",
   "metadata": {},
   "source": [
    "The box plots show how the medians of the two distributions compare, but we can also compare the means of the distributions using the following function to split the `weight` variable into the `habit` groups, then take the mean of each using the `mean` function."
   ]
  },
  {
   "cell_type": "code",
   "execution_count": null,
   "metadata": {
    "collapsed": false
   },
   "outputs": [],
   "source": [
    "smoking = ncbirths.groupby(\"habit\")\n",
    "smoking.agg(mean).weight"
   ]
  },
  {
   "cell_type": "markdown",
   "metadata": {},
   "source": [
    "There is an observed difference, but is this difference statistically significant? In order to answer this question we will conduct a hypothesis test."
   ]
  },
  {
   "cell_type": "markdown",
   "metadata": {},
   "source": [
    "## Inference\n",
    "### Exercise 3\n",
    "Check if the conditions necessary for inference are satisfied. Note that you will need to obtain sample sizes to check the conditions. You can compute the group size using the same by command above but replacing `mean` with `len`."
   ]
  },
  {
   "cell_type": "markdown",
   "metadata": {},
   "source": [
    "### Exercise 4\n",
    "Write the hypotheses for testing if the average weights of babies born to smoking and non-smoking mothers are different. Calculate the Z-score and p-value for the hypothesis test."
   ]
  },
  {
   "cell_type": "code",
   "execution_count": null,
   "metadata": {
    "collapsed": true
   },
   "outputs": [],
   "source": [
    "# functions to visualize z-test\n",
    "def _gauss(x, mu=0, sigma=1):\n",
    "    return 1/(sigma*np.sqrt(2*np.pi)) * np.exp(-0.5*pow((x-mu)/sigma,2))\n",
    "gauss = np.vectorize(_gauss)\n",
    "\n",
    "def plot_twosided_ztest(se):\n",
    "    fig = plt.figure()\n",
    "    g = fig.add_subplot(111)\n",
    "    dx = np.linspace(-3.5*se, 3.5*se)\n",
    "    g.plot(dx, gauss(dx, sigma=se))\n",
    "    zx = np.linspace(htest[0]*se, max(dx))\n",
    "    g.fill_between(zx, 0, gauss(zx, sigma=se))\n",
    "    g.fill_between(-zx, 0, gauss(-zx, sigma=se))\n",
    "    g.yaxis.set_visible(False)"
   ]
  },
  {
   "cell_type": "code",
   "execution_count": null,
   "metadata": {
    "collapsed": false
   },
   "outputs": [],
   "source": [
    "# hypthesis test from exercise 4\n",
    "group1 = ncbirths[ncbirths[\"habit\"]==\"nonsmoker\"].weight\n",
    "group2 = ncbirths[ncbirths[\"habit\"]==\"smoker\"].weight\n",
    "d1 = statsmodels.stats.weightstats.DescrStatsW(group1)\n",
    "d2 = statsmodels.stats.weightstats.DescrStatsW(group2)\n",
    "cm = statsmodels.stats.weightstats.CompareMeans(d1, d2)\n",
    "htest = cm.ztest_ind(usevar=\"unequal\")\n",
    "print(\"lTest statistics: Z = {:n}\".format(htest[0]))\n",
    "print(\"p-value = {:n}\".format(htest[1]))\n",
    "plot_twosided_ztest(cm.std_meandiff_separatevar)"
   ]
  },
  {
   "cell_type": "markdown",
   "metadata": {},
   "source": [
    "### Exercise 5\n",
    "Calculate the 95% confidence interval for the difference in means $\\mu_{nonsmoker} - \\mu_{smoker}$. Read the documentation for statsmodels.stats.weightstats.CompareMeans (current instance is `cm`) for help."
   ]
  },
  {
   "cell_type": "markdown",
   "metadata": {},
   "source": [
    "### Exercise 6\n",
    "See DescrStatsW [documentation](http://statsmodels.sourceforge.net/devel/generated/statsmodels.stats.weightstats.DescrStatsW.html) for useful methods.\n",
    "\n",
    "1. Calculate a 95% confidence interval for the average length of pregnancies (weeks) and interpret it in context. Note that since you’re doing inference on a single population parameter, there is no explanatory variable, so you can omit the x variable from the function.\n",
    "\n",
    "2. Calculate a new confidence interval for the same parameter at the 90% confidence level. You can change the confidence level by adding a new argument to the function: conflevel = 0.90.\n",
    "\n",
    "3. Conduct a hypothesis test evaluating whether the average weight gained by younger mothers is different than the average weight gained by mature mothers.\n",
    "\n",
    "4. Now, a non-inference task: Determine the age cutoff for younger and mature mothers. Use a method of your choice, and explain how your method works.\n",
    "\n",
    "5. Pick a pair of numerical and categorical variables and come up with a research question evaluating the relationship between these variables. Formulate the question in a way that it can be answered using a hypothesis test and/or a confidence interval. Answer your question using the inference function, report the statistical results, and also provide an explanation in plain language."
   ]
  }
 ],
 "metadata": {
  "kernelspec": {
   "display_name": "Python 3",
   "language": "python",
   "name": "python3"
  },
  "language_info": {
   "codemirror_mode": {
    "name": "ipython",
    "version": 3
   },
   "file_extension": ".py",
   "mimetype": "text/x-python",
   "name": "python",
   "nbconvert_exporter": "python",
   "pygments_lexer": "ipython3",
   "version": "3.5.2"
  }
 },
 "nbformat": 4,
 "nbformat_minor": 0
}
